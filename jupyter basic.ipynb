{
 "cells": [
  {
   "cell_type": "markdown",
   "id": "63513cda",
   "metadata": {},
   "source": [
    "# 주피터 노트북 사용법\n",
    "* Shift + Enter 키를 누르면 셀이 실행되고 커서가 다음셀로 이동합니다.\n",
    "* Enter 키를 누르면 다시 편집상태로 돌아옵니다.\n",
    "* ESC 키를 누르고\n",
    " * a 키를 누르면 위에 셀이 추가됩니다.\n",
    " * b 키를 누르면 아래에 셀이 추가됩니다.\n",
    " * dd 키를 누르면 셀이 삭제됩니다.\n",
    " \n",
    " ## 마크다운(Markdown)이란?\n",
    " * 코드와 함께 문서화를 하실 수 있습니다.\n",
    " * 문서화를 할 수 있는 문법"
   ]
  }
 ],
 "metadata": {
  "kernelspec": {
   "display_name": "Python 3 (ipykernel)",
   "language": "python",
   "name": "python3"
  },
  "language_info": {
   "codemirror_mode": {
    "name": "ipython",
    "version": 3
   },
   "file_extension": ".py",
   "mimetype": "text/x-python",
   "name": "python",
   "nbconvert_exporter": "python",
   "pygments_lexer": "ipython3",
   "version": "3.11.4"
  }
 },
 "nbformat": 4,
 "nbformat_minor": 5
}
